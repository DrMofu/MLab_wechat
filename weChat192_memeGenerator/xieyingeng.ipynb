{
 "cells": [
  {
   "cell_type": "code",
   "execution_count": 1,
   "metadata": {},
   "outputs": [
    {
     "name": "stdout",
     "output_type": "stream",
     "text": [
      "Collecting xpinyin\n",
      "  Downloading xpinyin-0.7.6-py3-none-any.whl (129 kB)\n",
      "\u001b[K     |████████████████████████████████| 129 kB 9.0 MB/s eta 0:00:01\n",
      "\u001b[?25hInstalling collected packages: xpinyin\n",
      "Successfully installed xpinyin-0.7.6\n"
     ]
    }
   ],
   "source": [
    "!pip install xpinyin"
   ]
  },
  {
   "cell_type": "code",
   "execution_count": 2,
   "metadata": {},
   "outputs": [],
   "source": [
    "from xpinyin import Pinyin\n",
    "import pandas as pd\n",
    "import numpy as np"
   ]
  },
  {
   "cell_type": "code",
   "execution_count": 3,
   "metadata": {},
   "outputs": [],
   "source": [
    "import difflib\n",
    "import Levenshtein"
   ]
  },
  {
   "cell_type": "code",
   "execution_count": 4,
   "metadata": {},
   "outputs": [],
   "source": [
    "p = Pinyin()"
   ]
  },
  {
   "cell_type": "code",
   "execution_count": 17,
   "metadata": {},
   "outputs": [],
   "source": [
    "# 导入英文单词\n",
    "data = pd.read_csv(\"english.csv\", index_col=0)"
   ]
  },
  {
   "cell_type": "code",
   "execution_count": 19,
   "metadata": {},
   "outputs": [
    {
     "data": {
      "text/html": [
       "<div>\n",
       "<style scoped>\n",
       "    .dataframe tbody tr th:only-of-type {\n",
       "        vertical-align: middle;\n",
       "    }\n",
       "\n",
       "    .dataframe tbody tr th {\n",
       "        vertical-align: top;\n",
       "    }\n",
       "\n",
       "    .dataframe thead th {\n",
       "        text-align: right;\n",
       "    }\n",
       "</style>\n",
       "<table border=\"1\" class=\"dataframe\">\n",
       "  <thead>\n",
       "    <tr style=\"text-align: right;\">\n",
       "      <th></th>\n",
       "      <th>word</th>\n",
       "      <th>phonetic</th>\n",
       "    </tr>\n",
       "  </thead>\n",
       "  <tbody>\n",
       "    <tr>\n",
       "      <th>0</th>\n",
       "      <td>a, an</td>\n",
       "      <td>[ə；æn]</td>\n",
       "    </tr>\n",
       "    <tr>\n",
       "      <th>1</th>\n",
       "      <td>abandon</td>\n",
       "      <td>[əˈbændən]</td>\n",
       "    </tr>\n",
       "  </tbody>\n",
       "</table>\n",
       "</div>"
      ],
      "text/plain": [
       "      word     phonetic\n",
       "0    a, an       [ə；æn]\n",
       "1  abandon   [əˈbændən]"
      ]
     },
     "execution_count": 19,
     "metadata": {},
     "output_type": "execute_result"
    }
   ],
   "source": [
    "data.head(2)"
   ]
  },
  {
   "cell_type": "code",
   "execution_count": 20,
   "metadata": {},
   "outputs": [],
   "source": [
    "yb2py ={\" \":\"\",\"'\":\"\",\"[\":\"\",\"]\":\"\",\",\":\"\", \"/\":\"\",\"ˈ\":\"\",\"ˌ\":\"\",\"ː\":\"\",\n",
    "        \"i\":\"yi\",\"ɪ\":\"yi\",\"e\":\"ai\",\"æ\":\"a\",\"ə\":\"a\",\"ʌ\":\"a\",\"a\":\"a\",\"ɑ\":\"a\",\"ɔ\":\"ou\",\"u\":\"u\",\n",
    "       \"eɪ\":\"ei\",\"aɪ\":\"ai\",\"ɔɪ\":\"wei\",\"əu\":\"ou\",\"au\":\"ao\",\"ɪə\":\"yi\",\"ɛə\":\"aei\",\"uə\":'wei',\n",
    "       \"p\":\"p\",\"b\":\"b\",\"t\":\"t\",\"d\":\"d\",\"k\":\"k\",\"ɡ\":\"g\",\"f\":\"f\",\"v\":\"u\",\"s\":\"s\",\"z\":\"s\",\n",
    "       \"θ\":\"si\",\"ð\":\"zhe\",\"ʃ\":\"shi\",\"ʒ\":\"yi\",\"h\":\"he\",\"r\":\"r\",\"tʃ\":\"qi\",\"dʒ\":\"ji\",\n",
    "       \"tr\":\"que\",\"dr\":\"jue\",\"ts\":\"ci\",\"dz\":\"zi\",\"m\":\"m\",\"n\":\"n\",\"ŋ\":\"en\",\"w\":\"wo\",\"j\":\"\",\"ɛ\":\"ai\",\n",
    "       \"o\":\"o\",\"ɝ\":\"er\",\"ɜ\":\"e\",\"ʊ\":\"o\",\"ɚ\":\"er\",\"ō\":\"o\",\"l\":\"\"}\n",
    "\n",
    "def yb_2_py(wordYB):\n",
    "    py = \"\"\n",
    "    index = 0\n",
    "    YBLen = len(wordYB)\n",
    "    while index<YBLen:\n",
    "        if index+1<YBLen and wordYB[index:index+2] in yb2py:\n",
    "            py += yb2py[wordYB[index:index+2]]\n",
    "            index+=2\n",
    "        else:\n",
    "            py += yb2py[wordYB[index]]\n",
    "            index+=1\n",
    "    return py"
   ]
  },
  {
   "cell_type": "code",
   "execution_count": 21,
   "metadata": {},
   "outputs": [
    {
     "data": {
      "text/plain": [
       "'skai'"
      ]
     },
     "execution_count": 21,
     "metadata": {},
     "output_type": "execute_result"
    }
   ],
   "source": [
    "yb_2_py(\"skaɪ\")"
   ]
  },
  {
   "cell_type": "code",
   "execution_count": 23,
   "metadata": {},
   "outputs": [],
   "source": [
    "# 预处理\n",
    "# 词\n",
    "words = data[\"word\"].tolist()\n",
    "words[0]=\"an\"\n",
    "words[992] = \"False\"\n",
    "# 音标\n",
    "ybs = [item.split(\";\")[0].split(\")\")[-1].replace(\":\",\"ː\").strip() for item in data[\"phonetic\"]]\n",
    "ybs[0]='æn'\n",
    "# 拼音\n",
    "pys = [yb_2_py(item) for item in ybs]"
   ]
  },
  {
   "cell_type": "code",
   "execution_count": 24,
   "metadata": {},
   "outputs": [],
   "source": [
    "# 单词筛选\n",
    "wordsList = []\n",
    "ybsList = []\n",
    "pysList = []\n",
    "for i in range(len(data)):\n",
    "    word = words[i]\n",
    "    if len(word)>=3 and len(word)<=5:\n",
    "        wordsList.append(word)\n",
    "        ybsList.append(ybs[i])\n",
    "        pysList.append(pys[i])"
   ]
  },
  {
   "cell_type": "code",
   "execution_count": 25,
   "metadata": {},
   "outputs": [],
   "source": [
    "wordsList=np.array(wordsList)"
   ]
  },
  {
   "cell_type": "code",
   "execution_count": 26,
   "metadata": {},
   "outputs": [
    {
     "name": "stdout",
     "output_type": "stream",
     "text": [
      "beier\n"
     ]
    }
   ],
   "source": [
    "chinese = u\"有备而来\"\n",
    "pinyin = p.get_pinyin(chinese).split(\"-\")\n",
    "str1 = ''.join(pinyin[1:3])\n",
    "print(str1)"
   ]
  },
  {
   "cell_type": "code",
   "execution_count": 27,
   "metadata": {},
   "outputs": [
    {
     "name": "stdout",
     "output_type": "stream",
     "text": [
      "['bake' 'base' 'bear' 'bear' 'beer' 'bird' 'blame' 'boil' 'boy' 'burn'\n",
      " 'layer' 'obey']\n",
      "['bake' 'base' 'bear' 'bear' 'beer' 'bird' 'blame' 'boil' 'boy' 'burn'\n",
      " 'layer' 'obey']\n",
      "['bake' 'base' 'based' 'bear' 'bear' 'beer' 'blame' 'layer']\n"
     ]
    }
   ],
   "source": [
    "# 转换音标\n",
    "n = len(wordsList)\n",
    "diff_sim = np.zeros(n)\n",
    "leven_dis = np.zeros(n)\n",
    "leven_ratio = np.zeros(n)\n",
    "for i in range(len(wordsList)):\n",
    "    wordYB = ybsList[i]\n",
    "    str2 = yb_2_py(wordYB)\n",
    "    diff_sim[i] = difflib.SequenceMatcher(None, str1,str2).ratio()\n",
    "    leven_dis[i] = Levenshtein.distance(str1, str2)\n",
    "    leven_ratio[i] = Levenshtein.ratio(str1, str2)\n",
    "print(wordsList[diff_sim==max(diff_sim)])\n",
    "print(wordsList[leven_ratio==max(leven_ratio)])\n",
    "print(wordsList[leven_dis==min(leven_dis)])"
   ]
  },
  {
   "cell_type": "code",
   "execution_count": 28,
   "metadata": {},
   "outputs": [
    {
     "name": "stdout",
     "output_type": "stream",
     "text": [
      "['beer'] 0.8888888888888888\n",
      "['beer'] 0.8888888888888888\n",
      "['beer'] 1.0\n"
     ]
    }
   ],
   "source": [
    "# 直接\n",
    "n = len(wordsList)\n",
    "diff_sim = np.zeros(n)\n",
    "leven_dis = np.zeros(n)\n",
    "leven_ratio = np.zeros(n)\n",
    "for i,str2 in enumerate(wordsList):\n",
    "    diff_sim[i] = difflib.SequenceMatcher(None, str1,str2).ratio()\n",
    "    leven_dis[i] = Levenshtein.distance(str1, str2)\n",
    "    leven_ratio[i] = Levenshtein.ratio(str1, str2)\n",
    "print(wordsList[diff_sim==max(diff_sim)],max(diff_sim))\n",
    "print(wordsList[leven_ratio==max(leven_ratio)],max(leven_ratio))\n",
    "print(wordsList[leven_dis==min(leven_dis)],min(leven_dis))"
   ]
  },
  {
   "cell_type": "code",
   "execution_count": 29,
   "metadata": {},
   "outputs": [
    {
     "name": "stdout",
     "output_type": "stream",
     "text": [
      "beer而来\n"
     ]
    }
   ],
   "source": [
    "print(wordsList[leven_ratio==max(leven_ratio)][0]+chinese[2:])"
   ]
  },
  {
   "cell_type": "code",
   "execution_count": 31,
   "metadata": {},
   "outputs": [
    {
     "name": "stdout",
     "output_type": "stream",
     "text": [
      "accept [əkˈsept] aksaipt\n"
     ]
    }
   ],
   "source": [
    "testID = 10\n",
    "wordYB = ybs[testID]\n",
    "py = pys[testID]\n",
    "print(data[\"word\"][testID],wordYB,py)"
   ]
  },
  {
   "cell_type": "code",
   "execution_count": 32,
   "metadata": {},
   "outputs": [
    {
     "data": {
      "text/plain": [
       "1"
      ]
     },
     "execution_count": 32,
     "metadata": {},
     "output_type": "execute_result"
    }
   ],
   "source": [
    "min(1,2,3)"
   ]
  },
  {
   "cell_type": "code",
   "execution_count": 33,
   "metadata": {},
   "outputs": [],
   "source": [
    "class Solution(object):\n",
    "    def minDistance(self, word1, word2):\n",
    "        \"\"\"\n",
    "        :type word1: str\n",
    "        :type word2: str\n",
    "        :rtype: int\n",
    "        \"\"\"\n",
    "        # init\n",
    "        counter = [[0]*(len(word2)+1) for i in range(len(word1)+1)]\n",
    "        for i in range(1,len(word1)+1):\n",
    "            counter[i][0]=i\n",
    "        for i in range(1,len(word2)+1):\n",
    "            counter[0][i]=i\n",
    "        # 开始计算\n",
    "        for i in range(1,len(word1)+1):\n",
    "            for j in range(1,len(word2)+1):\n",
    "                if word1[i-1]==word2[j-1]:\n",
    "                    thisone = counter[i-1][j-1]\n",
    "                else:\n",
    "                    thisone = min(counter[i][j-1]+1,counter[i-1][j]+1,counter[i-1][j-1]+1) # 加，减，替换\n",
    "                counter[i][j] = thisone \n",
    "        return counter[-1][-1]\n"
   ]
  },
  {
   "cell_type": "code",
   "execution_count": 34,
   "metadata": {},
   "outputs": [],
   "source": [
    "so = Solution()"
   ]
  },
  {
   "cell_type": "code",
   "execution_count": 35,
   "metadata": {},
   "outputs": [
    {
     "data": {
      "text/plain": [
       "3"
      ]
     },
     "execution_count": 35,
     "metadata": {},
     "output_type": "execute_result"
    }
   ],
   "source": [
    "so.minDistance(\"horse\",\"ros\")"
   ]
  },
  {
   "cell_type": "code",
   "execution_count": null,
   "metadata": {},
   "outputs": [],
   "source": []
  }
 ],
 "metadata": {
  "kernelspec": {
   "display_name": "Python 3",
   "language": "python",
   "name": "python3"
  },
  "language_info": {
   "codemirror_mode": {
    "name": "ipython",
    "version": 3
   },
   "file_extension": ".py",
   "mimetype": "text/x-python",
   "name": "python",
   "nbconvert_exporter": "python",
   "pygments_lexer": "ipython3",
   "version": "3.9.2"
  },
  "latex_envs": {
   "LaTeX_envs_menu_present": true,
   "autoclose": false,
   "autocomplete": true,
   "bibliofile": "biblio.bib",
   "cite_by": "apalike",
   "current_citInitial": 1,
   "eqLabelWithNumbers": true,
   "eqNumInitial": 1,
   "hotkeys": {
    "equation": "Ctrl-E",
    "itemize": "Ctrl-I"
   },
   "labels_anchors": false,
   "latex_user_defs": false,
   "report_style_numbering": false,
   "user_envs_cfg": false
  }
 },
 "nbformat": 4,
 "nbformat_minor": 4
}
