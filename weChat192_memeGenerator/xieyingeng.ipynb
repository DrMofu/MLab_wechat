{
 "cells": [
  {
   "cell_type": "code",
   "execution_count": 1,
   "metadata": {},
   "outputs": [
    {
     "name": "stdout",
     "output_type": "stream",
     "text": [
      "Requirement already satisfied: xpinyin in /Users/lmy/mambaforge/envs/xyg/lib/python3.9/site-packages (0.7.6)\n"
     ]
    }
   ],
   "source": [
    "!pip install xpinyin"
   ]
  },
  {
   "cell_type": "code",
   "execution_count": 2,
   "metadata": {},
   "outputs": [],
   "source": [
    "from xpinyin import Pinyin\n",
    "import pandas as pd\n",
    "import numpy as np"
   ]
  },
  {
   "cell_type": "code",
   "execution_count": 3,
   "metadata": {},
   "outputs": [],
   "source": [
    "import difflib\n",
    "import Levenshtein"
   ]
  },
  {
   "cell_type": "code",
   "execution_count": 4,
   "metadata": {},
   "outputs": [],
   "source": [
    "p = Pinyin()"
   ]
  },
  {
   "cell_type": "code",
   "execution_count": 5,
   "metadata": {},
   "outputs": [],
   "source": [
    "# 导入英文单词\n",
    "data = pd.read_csv(\"english.csv\", index_col=0)"
   ]
  },
  {
   "cell_type": "code",
   "execution_count": 6,
   "metadata": {},
   "outputs": [
    {
     "data": {
      "text/html": [
       "<div>\n",
       "<style scoped>\n",
       "    .dataframe tbody tr th:only-of-type {\n",
       "        vertical-align: middle;\n",
       "    }\n",
       "\n",
       "    .dataframe tbody tr th {\n",
       "        vertical-align: top;\n",
       "    }\n",
       "\n",
       "    .dataframe thead th {\n",
       "        text-align: right;\n",
       "    }\n",
       "</style>\n",
       "<table border=\"1\" class=\"dataframe\">\n",
       "  <thead>\n",
       "    <tr style=\"text-align: right;\">\n",
       "      <th></th>\n",
       "      <th>word</th>\n",
       "      <th>phonetic</th>\n",
       "    </tr>\n",
       "  </thead>\n",
       "  <tbody>\n",
       "    <tr>\n",
       "      <th>0</th>\n",
       "      <td>a, an</td>\n",
       "      <td>[ə；æn]</td>\n",
       "    </tr>\n",
       "    <tr>\n",
       "      <th>1</th>\n",
       "      <td>abandon</td>\n",
       "      <td>[əˈbændən]</td>\n",
       "    </tr>\n",
       "  </tbody>\n",
       "</table>\n",
       "</div>"
      ],
      "text/plain": [
       "      word     phonetic\n",
       "0    a, an       [ə；æn]\n",
       "1  abandon   [əˈbændən]"
      ]
     },
     "execution_count": 6,
     "metadata": {},
     "output_type": "execute_result"
    }
   ],
   "source": [
    "data.head(2)"
   ]
  },
  {
   "cell_type": "code",
   "execution_count": 7,
   "metadata": {},
   "outputs": [],
   "source": [
    "yb2py ={\" \":\"\",\"'\":\"\",\"[\":\"\",\"]\":\"\",\",\":\"\", \"/\":\"\",\"ˈ\":\"\",\"ˌ\":\"\",\"ː\":\"\",\n",
    "        \"i\":\"yi\",\"ɪ\":\"yi\",\"e\":\"ai\",\"æ\":\"a\",\"ə\":\"a\",\"ʌ\":\"a\",\"a\":\"a\",\"ɑ\":\"a\",\"ɔ\":\"ou\",\"u\":\"u\",\n",
    "       \"eɪ\":\"ei\",\"aɪ\":\"ai\",\"ɔɪ\":\"wei\",\"əu\":\"ou\",\"au\":\"ao\",\"ɪə\":\"yi\",\"ɛə\":\"aei\",\"uə\":'wei',\n",
    "       \"p\":\"p\",\"b\":\"b\",\"t\":\"t\",\"d\":\"d\",\"k\":\"k\",\"ɡ\":\"g\",\"f\":\"f\",\"v\":\"u\",\"s\":\"s\",\"z\":\"s\",\n",
    "       \"θ\":\"si\",\"ð\":\"zhe\",\"ʃ\":\"shi\",\"ʒ\":\"yi\",\"h\":\"he\",\"r\":\"r\",\"tʃ\":\"qi\",\"dʒ\":\"ji\",\n",
    "       \"tr\":\"que\",\"dr\":\"jue\",\"ts\":\"ci\",\"dz\":\"zi\",\"m\":\"m\",\"n\":\"n\",\"ŋ\":\"en\",\"w\":\"wo\",\"j\":\"\",\"ɛ\":\"ai\",\n",
    "       \"o\":\"o\",\"ɝ\":\"er\",\"ɜ\":\"e\",\"ʊ\":\"o\",\"ɚ\":\"er\",\"ō\":\"o\",\"l\":\"\"}\n",
    "\n",
    "def yb_2_py(wordYB):\n",
    "    '''Converts IPA symbols to Pinyin.'''\n",
    "    py = \"\"\n",
    "    index = 0\n",
    "    YBLen = len(wordYB)\n",
    "    while index<YBLen:\n",
    "        if index+1<YBLen and wordYB[index:index+2] in yb2py:\n",
    "            py += yb2py[wordYB[index:index+2]]\n",
    "            index+=2\n",
    "        else:\n",
    "            py += yb2py[wordYB[index]]\n",
    "            index+=1\n",
    "    return py"
   ]
  },
  {
   "cell_type": "code",
   "execution_count": 8,
   "metadata": {},
   "outputs": [
    {
     "data": {
      "text/plain": [
       "'skai'"
      ]
     },
     "execution_count": 8,
     "metadata": {},
     "output_type": "execute_result"
    }
   ],
   "source": [
    "yb_2_py(\"skaɪ\")"
   ]
  },
  {
   "cell_type": "code",
   "execution_count": 9,
   "metadata": {},
   "outputs": [
    {
     "data": {
      "text/html": [
       "<div>\n",
       "<style scoped>\n",
       "    .dataframe tbody tr th:only-of-type {\n",
       "        vertical-align: middle;\n",
       "    }\n",
       "\n",
       "    .dataframe tbody tr th {\n",
       "        vertical-align: top;\n",
       "    }\n",
       "\n",
       "    .dataframe thead th {\n",
       "        text-align: right;\n",
       "    }\n",
       "</style>\n",
       "<table border=\"1\" class=\"dataframe\">\n",
       "  <thead>\n",
       "    <tr style=\"text-align: right;\">\n",
       "      <th></th>\n",
       "      <th>word</th>\n",
       "      <th>phonetic</th>\n",
       "      <th>ybs</th>\n",
       "      <th>pys</th>\n",
       "    </tr>\n",
       "  </thead>\n",
       "  <tbody>\n",
       "    <tr>\n",
       "      <th>0</th>\n",
       "      <td>an</td>\n",
       "      <td>[ə；æn]</td>\n",
       "      <td>æn</td>\n",
       "      <td>an</td>\n",
       "    </tr>\n",
       "    <tr>\n",
       "      <th>1</th>\n",
       "      <td>abandon</td>\n",
       "      <td>[əˈbændən]</td>\n",
       "      <td>[əˈbændən]</td>\n",
       "      <td>abandan</td>\n",
       "    </tr>\n",
       "  </tbody>\n",
       "</table>\n",
       "</div>"
      ],
      "text/plain": [
       "      word     phonetic         ybs      pys\n",
       "0       an       [ə；æn]          æn       an\n",
       "1  abandon   [əˈbændən]  [əˈbændən]  abandan"
      ]
     },
     "execution_count": 9,
     "metadata": {},
     "output_type": "execute_result"
    }
   ],
   "source": [
    "# 预处理\n",
    "# 词\n",
    "data.loc[0, \"word\"] = \"an\"\n",
    "data.loc[992, \"word\"] = \"an\"\n",
    "# 音标\n",
    "phonetic_to_yb = lambda item: item.split(\";\")[0].split(\")\")[-1].replace(\":\",\"ː\").strip()\n",
    "ybs = data[\"phonetic\"].apply(phonetic_to_yb)\n",
    "ybs[0]='æn'\n",
    "data = data.assign(ybs=ybs)\n",
    "# 拼音\n",
    "pys = data[\"ybs\"].apply(yb_2_py)\n",
    "data = data.assign(pys=pys)\n",
    "\n",
    "data.head(2)"
   ]
  },
  {
   "cell_type": "code",
   "execution_count": 10,
   "metadata": {},
   "outputs": [
    {
     "name": "stdout",
     "output_type": "stream",
     "text": [
      "1196 words remain.\n"
     ]
    }
   ],
   "source": [
    "# 单词筛选\n",
    "data = data.loc[(data['word'].str.len()<=5) & (data['word'].str.len()>=3)]\n",
    "data.reset_index(drop=True, inplace=True)\n",
    "print(f\"{len(data)} words remain.\")"
   ]
  },
  {
   "cell_type": "code",
   "execution_count": 11,
   "metadata": {},
   "outputs": [
    {
     "name": "stdout",
     "output_type": "stream",
     "text": [
      "beier\n"
     ]
    }
   ],
   "source": [
    "chinese = u\"有备而来\"\n",
    "pinyin = p.get_pinyin(chinese).split(\"-\")\n",
    "str1 = ''.join(pinyin[1:3])\n",
    "print(str1)"
   ]
  },
  {
   "cell_type": "code",
   "execution_count": 12,
   "metadata": {},
   "outputs": [],
   "source": [
    "# 转换音标\n",
    "data = data.assign(\n",
    "    diff_sim = data['word'].apply(lambda str2: difflib.SequenceMatcher(None, str1,str2).ratio())\n",
    ")"
   ]
  },
  {
   "cell_type": "code",
   "execution_count": 13,
   "metadata": {},
   "outputs": [
    {
     "name": "stdout",
     "output_type": "stream",
     "text": [
      "Top 5 most similar words by `difflib.SequenceMatcher`:\n"
     ]
    },
    {
     "data": {
      "text/html": [
       "<div>\n",
       "<style scoped>\n",
       "    .dataframe tbody tr th:only-of-type {\n",
       "        vertical-align: middle;\n",
       "    }\n",
       "\n",
       "    .dataframe tbody tr th {\n",
       "        vertical-align: top;\n",
       "    }\n",
       "\n",
       "    .dataframe thead th {\n",
       "        text-align: right;\n",
       "    }\n",
       "</style>\n",
       "<table border=\"1\" class=\"dataframe\">\n",
       "  <thead>\n",
       "    <tr style=\"text-align: right;\">\n",
       "      <th></th>\n",
       "      <th>word</th>\n",
       "      <th>phonetic</th>\n",
       "      <th>ybs</th>\n",
       "      <th>pys</th>\n",
       "      <th>diff_sim</th>\n",
       "    </tr>\n",
       "  </thead>\n",
       "  <tbody>\n",
       "    <tr>\n",
       "      <th>83</th>\n",
       "      <td>beer</td>\n",
       "      <td>[bɪr]</td>\n",
       "      <td>[bɪr]</td>\n",
       "      <td>byir</td>\n",
       "      <td>0.888889</td>\n",
       "    </tr>\n",
       "    <tr>\n",
       "      <th>81</th>\n",
       "      <td>bee</td>\n",
       "      <td>[biː]</td>\n",
       "      <td>[biː]</td>\n",
       "      <td>byi</td>\n",
       "      <td>0.750000</td>\n",
       "    </tr>\n",
       "    <tr>\n",
       "      <th>82</th>\n",
       "      <td>beef</td>\n",
       "      <td>[biːf]</td>\n",
       "      <td>[biːf]</td>\n",
       "      <td>byif</td>\n",
       "      <td>0.666667</td>\n",
       "    </tr>\n",
       "    <tr>\n",
       "      <th>77</th>\n",
       "      <td>bear</td>\n",
       "      <td>[ber]</td>\n",
       "      <td>[ber]</td>\n",
       "      <td>bair</td>\n",
       "      <td>0.666667</td>\n",
       "    </tr>\n",
       "    <tr>\n",
       "      <th>98</th>\n",
       "      <td>bird</td>\n",
       "      <td>[bɜːrd]</td>\n",
       "      <td>[bɜːrd]</td>\n",
       "      <td>berd</td>\n",
       "      <td>0.666667</td>\n",
       "    </tr>\n",
       "  </tbody>\n",
       "</table>\n",
       "</div>"
      ],
      "text/plain": [
       "    word phonetic      ybs   pys  diff_sim\n",
       "83  beer    [bɪr]    [bɪr]  byir  0.888889\n",
       "81   bee    [biː]    [biː]   byi  0.750000\n",
       "82  beef   [biːf]   [biːf]  byif  0.666667\n",
       "77  bear    [ber]    [ber]  bair  0.666667\n",
       "98  bird  [bɜːrd]  [bɜːrd]  berd  0.666667"
      ]
     },
     "execution_count": 13,
     "metadata": {},
     "output_type": "execute_result"
    }
   ],
   "source": [
    "print('Top 5 most similar words by `difflib.SequenceMatcher`:')\n",
    "data.sort_values('diff_sim', ascending=False).head(5)"
   ]
  }
 ],
 "metadata": {
  "kernelspec": {
   "display_name": "Python 3",
   "language": "python",
   "name": "python3"
  },
  "language_info": {
   "codemirror_mode": {
    "name": "ipython",
    "version": 3
   },
   "file_extension": ".py",
   "mimetype": "text/x-python",
   "name": "python",
   "nbconvert_exporter": "python",
   "pygments_lexer": "ipython3",
   "version": "3.9.2"
  },
  "latex_envs": {
   "LaTeX_envs_menu_present": true,
   "autoclose": false,
   "autocomplete": true,
   "bibliofile": "biblio.bib",
   "cite_by": "apalike",
   "current_citInitial": 1,
   "eqLabelWithNumbers": true,
   "eqNumInitial": 1,
   "hotkeys": {
    "equation": "Ctrl-E",
    "itemize": "Ctrl-I"
   },
   "labels_anchors": false,
   "latex_user_defs": false,
   "report_style_numbering": false,
   "user_envs_cfg": false
  }
 },
 "nbformat": 4,
 "nbformat_minor": 4
}
