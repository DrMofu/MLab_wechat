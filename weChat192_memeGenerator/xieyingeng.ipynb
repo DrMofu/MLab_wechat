{
 "cells": [
  {
   "cell_type": "code",
   "execution_count": 1,
   "metadata": {},
   "outputs": [],
   "source": [
    "from xpinyin import Pinyin\n",
    "import pandas as pd\n",
    "import numpy as np"
   ]
  },
  {
   "cell_type": "code",
   "execution_count": 2,
   "metadata": {},
   "outputs": [],
   "source": [
    "import difflib\n",
    "import Levenshtein"
   ]
  },
  {
   "cell_type": "code",
   "execution_count": 3,
   "metadata": {},
   "outputs": [],
   "source": [
    "p = Pinyin()"
   ]
  },
  {
   "cell_type": "code",
   "execution_count": 4,
   "metadata": {},
   "outputs": [],
   "source": [
    "# 导入英文单词\n",
    "data = pd.read_excel(\"english.xlsx\")"
   ]
  },
  {
   "cell_type": "code",
   "execution_count": 5,
   "metadata": {},
   "outputs": [
    {
     "data": {
      "text/html": [
       "<div>\n",
       "<style scoped>\n",
       "    .dataframe tbody tr th:only-of-type {\n",
       "        vertical-align: middle;\n",
       "    }\n",
       "\n",
       "    .dataframe tbody tr th {\n",
       "        vertical-align: top;\n",
       "    }\n",
       "\n",
       "    .dataframe thead th {\n",
       "        text-align: right;\n",
       "    }\n",
       "</style>\n",
       "<table border=\"1\" class=\"dataframe\">\n",
       "  <thead>\n",
       "    <tr style=\"text-align: right;\">\n",
       "      <th></th>\n",
       "      <th>序号</th>\n",
       "      <th>词</th>\n",
       "      <th>音标</th>\n",
       "      <th>释义</th>\n",
       "      <th>例句</th>\n",
       "    </tr>\n",
       "  </thead>\n",
       "  <tbody>\n",
       "    <tr>\n",
       "      <td>0</td>\n",
       "      <td>1</td>\n",
       "      <td>a, an</td>\n",
       "      <td>[ə；æn]</td>\n",
       "      <td>art.A1 一个</td>\n",
       "      <td>There's a visitor for you. \\n有位客人找你。\\nI want a...</td>\n",
       "    </tr>\n",
       "    <tr>\n",
       "      <td>1</td>\n",
       "      <td>2</td>\n",
       "      <td>abandon</td>\n",
       "      <td>[əˈbændən]</td>\n",
       "      <td>v.  B2 放弃</td>\n",
       "      <td>The baby had been abandoned by its mother. \\n这...</td>\n",
       "    </tr>\n",
       "    <tr>\n",
       "      <td>2</td>\n",
       "      <td>3</td>\n",
       "      <td>ability</td>\n",
       "      <td>[əˈbɪləti]</td>\n",
       "      <td>n. A2 能力，能耐；才能</td>\n",
       "      <td>He was a man of extraordinary abilities. \\n他才干卓著。</td>\n",
       "    </tr>\n",
       "    <tr>\n",
       "      <td>3</td>\n",
       "      <td>4</td>\n",
       "      <td>able</td>\n",
       "      <td>[ˈeɪbl]</td>\n",
       "      <td>adj. A2 有能力的；能干的</td>\n",
       "      <td>You must be able to speak French for this job....</td>\n",
       "    </tr>\n",
       "    <tr>\n",
       "      <td>4</td>\n",
       "      <td>5</td>\n",
       "      <td>about</td>\n",
       "      <td>[əˈbaʊt]</td>\n",
       "      <td>prep.关于；在…四处\\nadv. A1 大约；周围</td>\n",
       "      <td>It costs about $10. \\n这大约要花10元钱。\\nTell me all ...</td>\n",
       "    </tr>\n",
       "    <tr>\n",
       "      <td>...</td>\n",
       "      <td>...</td>\n",
       "      <td>...</td>\n",
       "      <td>...</td>\n",
       "      <td>...</td>\n",
       "      <td>...</td>\n",
       "    </tr>\n",
       "    <tr>\n",
       "      <td>2995</td>\n",
       "      <td>2996</td>\n",
       "      <td>yours</td>\n",
       "      <td>[jərz]</td>\n",
       "      <td>pron.A2 你（们）的东西；你的责任\\nadj. 你（们）的（东西）</td>\n",
       "      <td>Is she a friend of yours? \\n她是你的朋友吗？</td>\n",
       "    </tr>\n",
       "    <tr>\n",
       "      <td>2996</td>\n",
       "      <td>2997</td>\n",
       "      <td>yourself</td>\n",
       "      <td>[jɔːrˈself]</td>\n",
       "      <td>pron.A1 你自己</td>\n",
       "      <td>Don't speak for your friend; speak for yoursel...</td>\n",
       "    </tr>\n",
       "    <tr>\n",
       "      <td>2997</td>\n",
       "      <td>2998</td>\n",
       "      <td>youth</td>\n",
       "      <td>[juːθ]</td>\n",
       "      <td>n.B1 青年；青春；年轻；青少年时期</td>\n",
       "      <td>He had been a talented musician in his youth. ...</td>\n",
       "    </tr>\n",
       "    <tr>\n",
       "      <td>2998</td>\n",
       "      <td>2999</td>\n",
       "      <td>zero</td>\n",
       "      <td>[ˈzɪroʊ]</td>\n",
       "      <td>numberA2 零;(气温、压力等的)零度，零点;最少</td>\n",
       "      <td>It's a sunny late winter day, just a few degre...</td>\n",
       "    </tr>\n",
       "    <tr>\n",
       "      <td>2999</td>\n",
       "      <td>3000</td>\n",
       "      <td>zone</td>\n",
       "      <td>[zoʊn]</td>\n",
       "      <td>n.B2地区，地带；(规划的)区域</td>\n",
       "      <td>Many people have stayed behind in the potentia...</td>\n",
       "    </tr>\n",
       "  </tbody>\n",
       "</table>\n",
       "<p>3000 rows × 5 columns</p>\n",
       "</div>"
      ],
      "text/plain": [
       "        序号         词           音标                                    释义  \\\n",
       "0        1     a, an       [ə；æn]                            art.A1 一个    \n",
       "1        2   abandon   [əˈbændən]                             v.  B2 放弃   \n",
       "2        3   ability   [əˈbɪləti]                        n. A2 能力，能耐；才能   \n",
       "3        4      able      [ˈeɪbl]                      adj. A2 有能力的；能干的   \n",
       "4        5    about      [əˈbaʊt]           prep.关于；在…四处\\nadv. A1 大约；周围   \n",
       "...    ...       ...          ...                                   ...   \n",
       "2995  2996     yours       [jərz]  pron.A2 你（们）的东西；你的责任\\nadj. 你（们）的（东西）   \n",
       "2996  2997  yourself  [jɔːrˈself]                           pron.A1 你自己   \n",
       "2997  2998     youth       [juːθ]                   n.B1 青年；青春；年轻；青少年时期   \n",
       "2998  2999      zero    [ˈzɪroʊ]           numberA2 零;(气温、压力等的)零度，零点;最少   \n",
       "2999  3000      zone       [zoʊn]                     n.B2地区，地带；(规划的)区域   \n",
       "\n",
       "                                                     例句  \n",
       "0     There's a visitor for you. \\n有位客人找你。\\nI want a...  \n",
       "1     The baby had been abandoned by its mother. \\n这...  \n",
       "2     He was a man of extraordinary abilities. \\n他才干卓著。  \n",
       "3     You must be able to speak French for this job....  \n",
       "4     It costs about $10. \\n这大约要花10元钱。\\nTell me all ...  \n",
       "...                                                 ...  \n",
       "2995               Is she a friend of yours? \\n她是你的朋友吗？  \n",
       "2996  Don't speak for your friend; speak for yoursel...  \n",
       "2997  He had been a talented musician in his youth. ...  \n",
       "2998  It's a sunny late winter day, just a few degre...  \n",
       "2999  Many people have stayed behind in the potentia...  \n",
       "\n",
       "[3000 rows x 5 columns]"
      ]
     },
     "execution_count": 5,
     "metadata": {},
     "output_type": "execute_result"
    }
   ],
   "source": [
    "data"
   ]
  },
  {
   "cell_type": "code",
   "execution_count": 6,
   "metadata": {},
   "outputs": [],
   "source": [
    "yb2py ={\" \":\"\",\"'\":\"\",\"[\":\"\",\"]\":\"\",\",\":\"\", \"/\":\"\",\"ˈ\":\"\",\"ˌ\":\"\",\"ː\":\"\",\n",
    "        \"i\":\"yi\",\"ɪ\":\"yi\",\"e\":\"ai\",\"æ\":\"a\",\"ə\":\"a\",\"ʌ\":\"a\",\"a\":\"a\",\"ɑ\":\"a\",\"ɔ\":\"ou\",\"u\":\"u\",\n",
    "       \"eɪ\":\"ei\",\"aɪ\":\"ai\",\"ɔɪ\":\"wei\",\"əu\":\"ou\",\"au\":\"ao\",\"ɪə\":\"yi\",\"ɛə\":\"aei\",\"uə\":'wei',\n",
    "       \"p\":\"p\",\"b\":\"b\",\"t\":\"t\",\"d\":\"d\",\"k\":\"k\",\"ɡ\":\"g\",\"f\":\"f\",\"v\":\"u\",\"s\":\"s\",\"z\":\"s\",\n",
    "       \"θ\":\"si\",\"ð\":\"zhe\",\"ʃ\":\"shi\",\"ʒ\":\"yi\",\"h\":\"he\",\"r\":\"r\",\"tʃ\":\"qi\",\"dʒ\":\"ji\",\n",
    "       \"tr\":\"que\",\"dr\":\"jue\",\"ts\":\"ci\",\"dz\":\"zi\",\"m\":\"m\",\"n\":\"n\",\"ŋ\":\"en\",\"w\":\"wo\",\"j\":\"\",\"ɛ\":\"ai\",\n",
    "       \"o\":\"o\",\"ɝ\":\"er\",\"ɜ\":\"e\",\"ʊ\":\"o\",\"ɚ\":\"er\",\"ō\":\"o\",\"l\":\"\"}\n",
    "\n",
    "def yb_2_py(wordYB):\n",
    "    py = \"\"\n",
    "    index = 0\n",
    "    YBLen = len(wordYB)\n",
    "    while index<YBLen:\n",
    "        if index+1<YBLen and wordYB[index:index+2] in yb2py:\n",
    "            py += yb2py[wordYB[index:index+2]]\n",
    "            index+=2\n",
    "        else:\n",
    "            py += yb2py[wordYB[index]]\n",
    "            index+=1\n",
    "    return py"
   ]
  },
  {
   "cell_type": "code",
   "execution_count": 62,
   "metadata": {},
   "outputs": [
    {
     "data": {
      "text/plain": [
       "'skai'"
      ]
     },
     "execution_count": 62,
     "metadata": {},
     "output_type": "execute_result"
    }
   ],
   "source": [
    "yb_2_py(\"skaɪ\")"
   ]
  },
  {
   "cell_type": "code",
   "execution_count": 7,
   "metadata": {},
   "outputs": [],
   "source": [
    "# 预处理\n",
    "# 词\n",
    "words = data[\"词\"].tolist()\n",
    "words[0]=\"an\"\n",
    "words[992] = \"False\"\n",
    "# 音标\n",
    "ybs = [item.split(\";\")[0].split(\")\")[-1].replace(\":\",\"ː\").strip() for item in data[\"音标\"]]\n",
    "ybs[0]='æn'\n",
    "# 拼音\n",
    "pys = [yb_2_py(item) for item in ybs]"
   ]
  },
  {
   "cell_type": "code",
   "execution_count": 11,
   "metadata": {},
   "outputs": [],
   "source": [
    "# 单词筛选\n",
    "wordsList = []\n",
    "ybsList = []\n",
    "pysList = []\n",
    "for i in range(len(data)):\n",
    "    word = words[i]\n",
    "    if len(word)>=3 and len(word)<=5:\n",
    "        wordsList.append(word)\n",
    "        ybsList.append(ybs[i])\n",
    "        pysList.append(pys[i])"
   ]
  },
  {
   "cell_type": "code",
   "execution_count": 12,
   "metadata": {},
   "outputs": [],
   "source": [
    "wordsList=np.array(wordsList)"
   ]
  },
  {
   "cell_type": "code",
   "execution_count": 71,
   "metadata": {},
   "outputs": [
    {
     "name": "stdout",
     "output_type": "stream",
     "text": [
      "beier\n"
     ]
    }
   ],
   "source": [
    "chinese = u\"有备而来\"\n",
    "pinyin = p.get_pinyin(chinese).split(\"-\")\n",
    "str1 = ''.join(pinyin[1:3])\n",
    "print(str1)"
   ]
  },
  {
   "cell_type": "code",
   "execution_count": 72,
   "metadata": {},
   "outputs": [
    {
     "name": "stdout",
     "output_type": "stream",
     "text": [
      "['bake' 'base' 'bear' 'bear' 'beer' 'bird' 'blame' 'boil' 'boy' 'burn'\n",
      " 'layer' 'obey']\n",
      "['bake' 'base' 'bear' 'bear' 'beer' 'bird' 'blame' 'boil' 'boy' 'burn'\n",
      " 'layer' 'obey']\n",
      "['bake' 'base' 'based' 'bear' 'bear' 'beer' 'blame' 'layer']\n"
     ]
    }
   ],
   "source": [
    "# 转换音标\n",
    "n = len(wordsList)\n",
    "diff_sim = np.zeros(n)\n",
    "leven_dis = np.zeros(n)\n",
    "leven_ratio = np.zeros(n)\n",
    "for i in range(len(wordsList)):\n",
    "    wordYB = ybsList[i]\n",
    "    str2 = yb_2_py(wordYB)\n",
    "    diff_sim[i] = difflib.SequenceMatcher(None, str1,str2).ratio()\n",
    "    leven_dis[i] = Levenshtein.distance(str1, str2)\n",
    "    leven_ratio[i] = Levenshtein.ratio(str1, str2)\n",
    "print(wordsList[diff_sim==max(diff_sim)])\n",
    "print(wordsList[leven_ratio==max(leven_ratio)])\n",
    "print(wordsList[leven_dis==min(leven_dis)])"
   ]
  },
  {
   "cell_type": "code",
   "execution_count": 73,
   "metadata": {},
   "outputs": [
    {
     "name": "stdout",
     "output_type": "stream",
     "text": [
      "['beer'] 0.8888888888888888\n",
      "['beer'] 0.8888888888888888\n",
      "['beer'] 1.0\n"
     ]
    }
   ],
   "source": [
    "# 直接\n",
    "n = len(wordsList)\n",
    "diff_sim = np.zeros(n)\n",
    "leven_dis = np.zeros(n)\n",
    "leven_ratio = np.zeros(n)\n",
    "for i,str2 in enumerate(wordsList):\n",
    "    diff_sim[i] = difflib.SequenceMatcher(None, str1,str2).ratio()\n",
    "    leven_dis[i] = Levenshtein.distance(str1, str2)\n",
    "    leven_ratio[i] = Levenshtein.ratio(str1, str2)\n",
    "print(wordsList[diff_sim==max(diff_sim)],max(diff_sim))\n",
    "print(wordsList[leven_ratio==max(leven_ratio)],max(leven_ratio))\n",
    "print(wordsList[leven_dis==min(leven_dis)],min(leven_dis))"
   ]
  },
  {
   "cell_type": "code",
   "execution_count": 52,
   "metadata": {},
   "outputs": [
    {
     "name": "stdout",
     "output_type": "stream",
     "text": [
      "hunt喜地\n"
     ]
    }
   ],
   "source": [
    "print(wordsList[leven_ratio==max(leven_ratio)][0]+chinese[2:])"
   ]
  },
  {
   "cell_type": "code",
   "execution_count": 19,
   "metadata": {},
   "outputs": [
    {
     "name": "stdout",
     "output_type": "stream",
     "text": [
      "accept [əkˈsept] aksaipt\n"
     ]
    }
   ],
   "source": [
    "testID = 10\n",
    "wordYB = ybs[testID]\n",
    "py = pys[testID]\n",
    "print(data[\"词\"][testID],wordYB,py)"
   ]
  },
  {
   "cell_type": "code",
   "execution_count": 2,
   "metadata": {},
   "outputs": [
    {
     "data": {
      "text/plain": [
       "1"
      ]
     },
     "execution_count": 2,
     "metadata": {},
     "output_type": "execute_result"
    }
   ],
   "source": [
    "min(1,2,3)"
   ]
  },
  {
   "cell_type": "code",
   "execution_count": 6,
   "metadata": {},
   "outputs": [],
   "source": [
    "class Solution(object):\n",
    "    def minDistance(self, word1, word2):\n",
    "        \"\"\"\n",
    "        :type word1: str\n",
    "        :type word2: str\n",
    "        :rtype: int\n",
    "        \"\"\"\n",
    "        # init\n",
    "        counter = [[0]*(len(word2)+1) for i in range(len(word1)+1)]\n",
    "        for i in range(1,len(word1)+1):\n",
    "            counter[i][0]=i\n",
    "        for i in range(1,len(word2)+1):\n",
    "            counter[0][i]=i\n",
    "        # 开始计算\n",
    "        for i in range(1,len(word1)+1):\n",
    "            for j in range(1,len(word2)+1):\n",
    "                if word1[i-1]==word2[j-1]:\n",
    "                    thisone = counter[i-1][j-1]\n",
    "                else:\n",
    "                    thisone = min(counter[i][j-1]+1,counter[i-1][j]+1,counter[i-1][j-1]+1) # 加，减，替换\n",
    "                counter[i][j] = thisone \n",
    "        return counter[-1][-1]\n"
   ]
  },
  {
   "cell_type": "code",
   "execution_count": 7,
   "metadata": {},
   "outputs": [],
   "source": [
    "so = Solution()"
   ]
  },
  {
   "cell_type": "code",
   "execution_count": 8,
   "metadata": {},
   "outputs": [
    {
     "data": {
      "text/plain": [
       "3"
      ]
     },
     "execution_count": 8,
     "metadata": {},
     "output_type": "execute_result"
    }
   ],
   "source": [
    "so.minDistance(\"horse\",\"ros\")"
   ]
  },
  {
   "cell_type": "code",
   "execution_count": null,
   "metadata": {},
   "outputs": [],
   "source": []
  }
 ],
 "metadata": {
  "kernelspec": {
   "display_name": "Python 3",
   "language": "python",
   "name": "python3"
  },
  "language_info": {
   "codemirror_mode": {
    "name": "ipython",
    "version": 3
   },
   "file_extension": ".py",
   "mimetype": "text/x-python",
   "name": "python",
   "nbconvert_exporter": "python",
   "pygments_lexer": "ipython3",
   "version": "3.7.4"
  },
  "latex_envs": {
   "LaTeX_envs_menu_present": true,
   "autoclose": false,
   "autocomplete": true,
   "bibliofile": "biblio.bib",
   "cite_by": "apalike",
   "current_citInitial": 1,
   "eqLabelWithNumbers": true,
   "eqNumInitial": 1,
   "hotkeys": {
    "equation": "Ctrl-E",
    "itemize": "Ctrl-I"
   },
   "labels_anchors": false,
   "latex_user_defs": false,
   "report_style_numbering": false,
   "user_envs_cfg": false
  }
 },
 "nbformat": 4,
 "nbformat_minor": 2
}
