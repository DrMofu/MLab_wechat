{
 "cells": [
  {
   "cell_type": "code",
   "execution_count": 1,
   "metadata": {},
   "outputs": [
    {
     "name": "stdout",
     "output_type": "stream",
     "text": [
      "Requirement already satisfied: xpinyin in /Users/lmy/mambaforge/envs/xyg/lib/python3.9/site-packages (0.7.6)\n"
     ]
    }
   ],
   "source": [
    "!pip install xpinyin"
   ]
  },
  {
   "cell_type": "code",
   "execution_count": 2,
   "metadata": {},
   "outputs": [],
   "source": [
    "from xpinyin import Pinyin\n",
    "import pandas as pd\n",
    "import numpy as np"
   ]
  },
  {
   "cell_type": "code",
   "execution_count": 3,
   "metadata": {},
   "outputs": [],
   "source": [
    "import difflib\n",
    "import Levenshtein"
   ]
  },
  {
   "cell_type": "code",
   "execution_count": 4,
   "metadata": {},
   "outputs": [],
   "source": [
    "p = Pinyin()"
   ]
  },
  {
   "cell_type": "code",
   "execution_count": 5,
   "metadata": {},
   "outputs": [],
   "source": [
    "# 导入英文单词\n",
    "data = pd.read_csv(\"english.csv\", index_col=0)"
   ]
  },
  {
   "cell_type": "code",
   "execution_count": 6,
   "metadata": {},
   "outputs": [
    {
     "data": {
      "text/html": [
       "<div>\n",
       "<style scoped>\n",
       "    .dataframe tbody tr th:only-of-type {\n",
       "        vertical-align: middle;\n",
       "    }\n",
       "\n",
       "    .dataframe tbody tr th {\n",
       "        vertical-align: top;\n",
       "    }\n",
       "\n",
       "    .dataframe thead th {\n",
       "        text-align: right;\n",
       "    }\n",
       "</style>\n",
       "<table border=\"1\" class=\"dataframe\">\n",
       "  <thead>\n",
       "    <tr style=\"text-align: right;\">\n",
       "      <th></th>\n",
       "      <th>word</th>\n",
       "      <th>phonetic</th>\n",
       "    </tr>\n",
       "  </thead>\n",
       "  <tbody>\n",
       "    <tr>\n",
       "      <th>0</th>\n",
       "      <td>a, an</td>\n",
       "      <td>[ə；æn]</td>\n",
       "    </tr>\n",
       "    <tr>\n",
       "      <th>1</th>\n",
       "      <td>abandon</td>\n",
       "      <td>[əˈbændən]</td>\n",
       "    </tr>\n",
       "  </tbody>\n",
       "</table>\n",
       "</div>"
      ],
      "text/plain": [
       "      word     phonetic\n",
       "0    a, an       [ə；æn]\n",
       "1  abandon   [əˈbændən]"
      ]
     },
     "execution_count": 6,
     "metadata": {},
     "output_type": "execute_result"
    }
   ],
   "source": [
    "data.head(2)"
   ]
  },
  {
   "cell_type": "code",
   "execution_count": 7,
   "metadata": {},
   "outputs": [],
   "source": [
    "yb2py ={\" \":\"\",\"'\":\"\",\"[\":\"\",\"]\":\"\",\",\":\"\", \"/\":\"\",\"ˈ\":\"\",\"ˌ\":\"\",\"ː\":\"\",\n",
    "        \"i\":\"yi\",\"ɪ\":\"yi\",\"e\":\"ai\",\"æ\":\"a\",\"ə\":\"a\",\"ʌ\":\"a\",\"a\":\"a\",\"ɑ\":\"a\",\"ɔ\":\"ou\",\"u\":\"u\",\n",
    "       \"eɪ\":\"ei\",\"aɪ\":\"ai\",\"ɔɪ\":\"wei\",\"əu\":\"ou\",\"au\":\"ao\",\"ɪə\":\"yi\",\"ɛə\":\"aei\",\"uə\":'wei',\n",
    "       \"p\":\"p\",\"b\":\"b\",\"t\":\"t\",\"d\":\"d\",\"k\":\"k\",\"ɡ\":\"g\",\"f\":\"f\",\"v\":\"u\",\"s\":\"s\",\"z\":\"s\",\n",
    "       \"θ\":\"si\",\"ð\":\"zhe\",\"ʃ\":\"shi\",\"ʒ\":\"yi\",\"h\":\"he\",\"r\":\"r\",\"tʃ\":\"qi\",\"dʒ\":\"ji\",\n",
    "       \"tr\":\"que\",\"dr\":\"jue\",\"ts\":\"ci\",\"dz\":\"zi\",\"m\":\"m\",\"n\":\"n\",\"ŋ\":\"en\",\"w\":\"wo\",\"j\":\"\",\"ɛ\":\"ai\",\n",
    "       \"o\":\"o\",\"ɝ\":\"er\",\"ɜ\":\"e\",\"ʊ\":\"o\",\"ɚ\":\"er\",\"ō\":\"o\",\"l\":\"\"}\n",
    "\n",
    "def yb_2_py(wordYB):\n",
    "    '''Converts IPA symbols to Pinyin.'''\n",
    "    py = \"\"\n",
    "    index = 0\n",
    "    YBLen = len(wordYB)\n",
    "    while index<YBLen:\n",
    "        if index+1<YBLen and wordYB[index:index+2] in yb2py:\n",
    "            py += yb2py[wordYB[index:index+2]]\n",
    "            index+=2\n",
    "        else:\n",
    "            py += yb2py[wordYB[index]]\n",
    "            index+=1\n",
    "    return py"
   ]
  },
  {
   "cell_type": "code",
   "execution_count": 8,
   "metadata": {},
   "outputs": [
    {
     "data": {
      "text/plain": [
       "'skai'"
      ]
     },
     "execution_count": 8,
     "metadata": {},
     "output_type": "execute_result"
    }
   ],
   "source": [
    "yb_2_py(\"skaɪ\")"
   ]
  },
  {
   "cell_type": "code",
   "execution_count": 15,
   "metadata": {},
   "outputs": [
    {
     "data": {
      "text/html": [
       "<div>\n",
       "<style scoped>\n",
       "    .dataframe tbody tr th:only-of-type {\n",
       "        vertical-align: middle;\n",
       "    }\n",
       "\n",
       "    .dataframe tbody tr th {\n",
       "        vertical-align: top;\n",
       "    }\n",
       "\n",
       "    .dataframe thead th {\n",
       "        text-align: right;\n",
       "    }\n",
       "</style>\n",
       "<table border=\"1\" class=\"dataframe\">\n",
       "  <thead>\n",
       "    <tr style=\"text-align: right;\">\n",
       "      <th></th>\n",
       "      <th>word</th>\n",
       "      <th>phonetic</th>\n",
       "      <th>ybs</th>\n",
       "      <th>pys</th>\n",
       "    </tr>\n",
       "  </thead>\n",
       "  <tbody>\n",
       "    <tr>\n",
       "      <th>0</th>\n",
       "      <td>an</td>\n",
       "      <td>[ə；æn]</td>\n",
       "      <td>æn</td>\n",
       "      <td>an</td>\n",
       "    </tr>\n",
       "    <tr>\n",
       "      <th>1</th>\n",
       "      <td>abandon</td>\n",
       "      <td>[əˈbændən]</td>\n",
       "      <td>[əˈbændən]</td>\n",
       "      <td>abandan</td>\n",
       "    </tr>\n",
       "  </tbody>\n",
       "</table>\n",
       "</div>"
      ],
      "text/plain": [
       "      word     phonetic         ybs      pys\n",
       "0       an       [ə；æn]          æn       an\n",
       "1  abandon   [əˈbændən]  [əˈbændən]  abandan"
      ]
     },
     "execution_count": 15,
     "metadata": {},
     "output_type": "execute_result"
    }
   ],
   "source": [
    "# 预处理\n",
    "# 词\n",
    "data.loc[0, \"word\"] = \"an\"\n",
    "data.loc[992, \"word\"] = \"an\"\n",
    "# 音标\n",
    "phonetic_to_yb = lambda item: item.split(\";\")[0].split(\")\")[-1].replace(\":\",\"ː\").strip()\n",
    "ybs = data[\"phonetic\"].apply(phonetic_to_yb)\n",
    "ybs[0]='æn'\n",
    "data = data.assign(ybs=ybs)\n",
    "# 拼音\n",
    "pys = data[\"ybs\"].apply(yb_2_py)\n",
    "data = data.assign(pys=pys)\n",
    "\n",
    "data.head(2)"
   ]
  },
  {
   "cell_type": "code",
   "execution_count": 25,
   "metadata": {},
   "outputs": [
    {
     "name": "stdout",
     "output_type": "stream",
     "text": [
      "1196 words remain.\n"
     ]
    }
   ],
   "source": [
    "# 单词筛选\n",
    "data = data.loc[(data['word'].str.len()<=5) & (data['word'].str.len()>=3)]\n",
    "data.reset_index(drop=True, inplace=True)\n",
    "print(f\"{len(data)} words remain.\")"
   ]
  },
  {
   "cell_type": "code",
   "execution_count": 27,
   "metadata": {},
   "outputs": [
    {
     "name": "stdout",
     "output_type": "stream",
     "text": [
      "beier\n"
     ]
    }
   ],
   "source": [
    "chinese = u\"有备而来\"\n",
    "pinyin = p.get_pinyin(chinese).split(\"-\")\n",
    "str1 = ''.join(pinyin[1:3])\n",
    "print(str1)"
   ]
  },
  {
   "cell_type": "code",
   "execution_count": 38,
   "metadata": {},
   "outputs": [],
   "source": [
    "# 转换音标\n",
    "data = data.assign(\n",
    "    diff_sim = data['word'].apply(lambda str2: difflib.SequenceMatcher(None, str1,str2).ratio()),\n",
    "    leven_dis = data['word'].apply(lambda str2: Levenshtein.distance(str1, str2)),\n",
    "    leven_ratio = data['word'].apply(lambda str2: Levenshtein.ratio(str1, str2)),\n",
    ")"
   ]
  },
  {
   "cell_type": "code",
   "execution_count": 40,
   "metadata": {},
   "outputs": [
    {
     "name": "stdout",
     "output_type": "stream",
     "text": [
      "Top 5 most similar words by `difflib.SequenceMatcher`:\n"
     ]
    },
    {
     "data": {
      "text/html": [
       "<div>\n",
       "<style scoped>\n",
       "    .dataframe tbody tr th:only-of-type {\n",
       "        vertical-align: middle;\n",
       "    }\n",
       "\n",
       "    .dataframe tbody tr th {\n",
       "        vertical-align: top;\n",
       "    }\n",
       "\n",
       "    .dataframe thead th {\n",
       "        text-align: right;\n",
       "    }\n",
       "</style>\n",
       "<table border=\"1\" class=\"dataframe\">\n",
       "  <thead>\n",
       "    <tr style=\"text-align: right;\">\n",
       "      <th></th>\n",
       "      <th>word</th>\n",
       "      <th>phonetic</th>\n",
       "      <th>ybs</th>\n",
       "      <th>pys</th>\n",
       "      <th>diff_sim</th>\n",
       "      <th>leven_dis</th>\n",
       "      <th>leven_ratio</th>\n",
       "    </tr>\n",
       "  </thead>\n",
       "  <tbody>\n",
       "    <tr>\n",
       "      <th>83</th>\n",
       "      <td>beer</td>\n",
       "      <td>[bɪr]</td>\n",
       "      <td>[bɪr]</td>\n",
       "      <td>byir</td>\n",
       "      <td>0.888889</td>\n",
       "      <td>1</td>\n",
       "      <td>0.888889</td>\n",
       "    </tr>\n",
       "    <tr>\n",
       "      <th>81</th>\n",
       "      <td>bee</td>\n",
       "      <td>[biː]</td>\n",
       "      <td>[biː]</td>\n",
       "      <td>byi</td>\n",
       "      <td>0.750000</td>\n",
       "      <td>2</td>\n",
       "      <td>0.750000</td>\n",
       "    </tr>\n",
       "    <tr>\n",
       "      <th>82</th>\n",
       "      <td>beef</td>\n",
       "      <td>[biːf]</td>\n",
       "      <td>[biːf]</td>\n",
       "      <td>byif</td>\n",
       "      <td>0.666667</td>\n",
       "      <td>2</td>\n",
       "      <td>0.666667</td>\n",
       "    </tr>\n",
       "    <tr>\n",
       "      <th>77</th>\n",
       "      <td>bear</td>\n",
       "      <td>[ber]</td>\n",
       "      <td>[ber]</td>\n",
       "      <td>bair</td>\n",
       "      <td>0.666667</td>\n",
       "      <td>2</td>\n",
       "      <td>0.666667</td>\n",
       "    </tr>\n",
       "    <tr>\n",
       "      <th>98</th>\n",
       "      <td>bird</td>\n",
       "      <td>[bɜːrd]</td>\n",
       "      <td>[bɜːrd]</td>\n",
       "      <td>berd</td>\n",
       "      <td>0.666667</td>\n",
       "      <td>3</td>\n",
       "      <td>0.666667</td>\n",
       "    </tr>\n",
       "  </tbody>\n",
       "</table>\n",
       "</div>"
      ],
      "text/plain": [
       "    word phonetic      ybs   pys  diff_sim  leven_dis  leven_ratio\n",
       "83  beer    [bɪr]    [bɪr]  byir  0.888889          1     0.888889\n",
       "81   bee    [biː]    [biː]   byi  0.750000          2     0.750000\n",
       "82  beef   [biːf]   [biːf]  byif  0.666667          2     0.666667\n",
       "77  bear    [ber]    [ber]  bair  0.666667          2     0.666667\n",
       "98  bird  [bɜːrd]  [bɜːrd]  berd  0.666667          3     0.666667"
      ]
     },
     "execution_count": 40,
     "metadata": {},
     "output_type": "execute_result"
    }
   ],
   "source": [
    "print('Top 5 most similar words by `difflib.SequenceMatcher`:')\n",
    "data.sort_values('diff_sim', ascending=False).head(5)"
   ]
  },
  {
   "cell_type": "code",
   "execution_count": 41,
   "metadata": {},
   "outputs": [
    {
     "name": "stdout",
     "output_type": "stream",
     "text": [
      "Top 5 most similar words by `Levenshtein.distance`:\n"
     ]
    },
    {
     "data": {
      "text/html": [
       "<div>\n",
       "<style scoped>\n",
       "    .dataframe tbody tr th:only-of-type {\n",
       "        vertical-align: middle;\n",
       "    }\n",
       "\n",
       "    .dataframe tbody tr th {\n",
       "        vertical-align: top;\n",
       "    }\n",
       "\n",
       "    .dataframe thead th {\n",
       "        text-align: right;\n",
       "    }\n",
       "</style>\n",
       "<table border=\"1\" class=\"dataframe\">\n",
       "  <thead>\n",
       "    <tr style=\"text-align: right;\">\n",
       "      <th></th>\n",
       "      <th>word</th>\n",
       "      <th>phonetic</th>\n",
       "      <th>ybs</th>\n",
       "      <th>pys</th>\n",
       "      <th>diff_sim</th>\n",
       "      <th>leven_dis</th>\n",
       "      <th>leven_ratio</th>\n",
       "    </tr>\n",
       "  </thead>\n",
       "  <tbody>\n",
       "    <tr>\n",
       "      <th>598</th>\n",
       "      <td>mark</td>\n",
       "      <td>[mɑːrk]</td>\n",
       "      <td>[mɑːrk]</td>\n",
       "      <td>mark</td>\n",
       "      <td>0.222222</td>\n",
       "      <td>5</td>\n",
       "      <td>0.222222</td>\n",
       "    </tr>\n",
       "    <tr>\n",
       "      <th>944</th>\n",
       "      <td>sort</td>\n",
       "      <td>[sɔːrt]</td>\n",
       "      <td>[sɔːrt]</td>\n",
       "      <td>sourt</td>\n",
       "      <td>0.222222</td>\n",
       "      <td>5</td>\n",
       "      <td>0.222222</td>\n",
       "    </tr>\n",
       "    <tr>\n",
       "      <th>942</th>\n",
       "      <td>soon</td>\n",
       "      <td>[suːn]</td>\n",
       "      <td>[suːn]</td>\n",
       "      <td>sun</td>\n",
       "      <td>0.000000</td>\n",
       "      <td>5</td>\n",
       "      <td>0.000000</td>\n",
       "    </tr>\n",
       "    <tr>\n",
       "      <th>941</th>\n",
       "      <td>song</td>\n",
       "      <td>[ˈsʌmwer]</td>\n",
       "      <td>[ˈsʌmwer]</td>\n",
       "      <td>samwoair</td>\n",
       "      <td>0.000000</td>\n",
       "      <td>5</td>\n",
       "      <td>0.000000</td>\n",
       "    </tr>\n",
       "    <tr>\n",
       "      <th>940</th>\n",
       "      <td>son</td>\n",
       "      <td>[sʌn]</td>\n",
       "      <td>[sʌn]</td>\n",
       "      <td>san</td>\n",
       "      <td>0.000000</td>\n",
       "      <td>5</td>\n",
       "      <td>0.000000</td>\n",
       "    </tr>\n",
       "  </tbody>\n",
       "</table>\n",
       "</div>"
      ],
      "text/plain": [
       "     word   phonetic        ybs       pys  diff_sim  leven_dis  leven_ratio\n",
       "598  mark    [mɑːrk]    [mɑːrk]      mark  0.222222          5     0.222222\n",
       "944  sort    [sɔːrt]    [sɔːrt]     sourt  0.222222          5     0.222222\n",
       "942  soon     [suːn]     [suːn]       sun  0.000000          5     0.000000\n",
       "941  song  [ˈsʌmwer]  [ˈsʌmwer]  samwoair  0.000000          5     0.000000\n",
       "940   son      [sʌn]      [sʌn]       san  0.000000          5     0.000000"
      ]
     },
     "execution_count": 41,
     "metadata": {},
     "output_type": "execute_result"
    }
   ],
   "source": [
    "print('Top 5 most similar words by `Levenshtein.distance`:')\n",
    "data.sort_values('leven_dis', ascending=False).head(5)"
   ]
  },
  {
   "cell_type": "code",
   "execution_count": 42,
   "metadata": {},
   "outputs": [
    {
     "name": "stdout",
     "output_type": "stream",
     "text": [
      "Top 5 most similar words by `Levenshtein.ratio`:\n"
     ]
    },
    {
     "data": {
      "text/html": [
       "<div>\n",
       "<style scoped>\n",
       "    .dataframe tbody tr th:only-of-type {\n",
       "        vertical-align: middle;\n",
       "    }\n",
       "\n",
       "    .dataframe tbody tr th {\n",
       "        vertical-align: top;\n",
       "    }\n",
       "\n",
       "    .dataframe thead th {\n",
       "        text-align: right;\n",
       "    }\n",
       "</style>\n",
       "<table border=\"1\" class=\"dataframe\">\n",
       "  <thead>\n",
       "    <tr style=\"text-align: right;\">\n",
       "      <th></th>\n",
       "      <th>word</th>\n",
       "      <th>phonetic</th>\n",
       "      <th>ybs</th>\n",
       "      <th>pys</th>\n",
       "      <th>diff_sim</th>\n",
       "      <th>leven_dis</th>\n",
       "      <th>leven_ratio</th>\n",
       "    </tr>\n",
       "  </thead>\n",
       "  <tbody>\n",
       "    <tr>\n",
       "      <th>83</th>\n",
       "      <td>beer</td>\n",
       "      <td>[bɪr]</td>\n",
       "      <td>[bɪr]</td>\n",
       "      <td>byir</td>\n",
       "      <td>0.888889</td>\n",
       "      <td>1</td>\n",
       "      <td>0.888889</td>\n",
       "    </tr>\n",
       "    <tr>\n",
       "      <th>81</th>\n",
       "      <td>bee</td>\n",
       "      <td>[biː]</td>\n",
       "      <td>[biː]</td>\n",
       "      <td>byi</td>\n",
       "      <td>0.750000</td>\n",
       "      <td>2</td>\n",
       "      <td>0.750000</td>\n",
       "    </tr>\n",
       "    <tr>\n",
       "      <th>303</th>\n",
       "      <td>ever</td>\n",
       "      <td>[ˈevər]</td>\n",
       "      <td>[ˈevər]</td>\n",
       "      <td>aiuar</td>\n",
       "      <td>0.666667</td>\n",
       "      <td>2</td>\n",
       "      <td>0.666667</td>\n",
       "    </tr>\n",
       "    <tr>\n",
       "      <th>77</th>\n",
       "      <td>bear</td>\n",
       "      <td>[ber]</td>\n",
       "      <td>[ber]</td>\n",
       "      <td>bair</td>\n",
       "      <td>0.666667</td>\n",
       "      <td>2</td>\n",
       "      <td>0.666667</td>\n",
       "    </tr>\n",
       "    <tr>\n",
       "      <th>78</th>\n",
       "      <td>bear</td>\n",
       "      <td>[ber]</td>\n",
       "      <td>[ber]</td>\n",
       "      <td>bair</td>\n",
       "      <td>0.666667</td>\n",
       "      <td>2</td>\n",
       "      <td>0.666667</td>\n",
       "    </tr>\n",
       "  </tbody>\n",
       "</table>\n",
       "</div>"
      ],
      "text/plain": [
       "     word  phonetic      ybs    pys  diff_sim  leven_dis  leven_ratio\n",
       "83   beer     [bɪr]    [bɪr]   byir  0.888889          1     0.888889\n",
       "81    bee     [biː]    [biː]    byi  0.750000          2     0.750000\n",
       "303  ever   [ˈevər]  [ˈevər]  aiuar  0.666667          2     0.666667\n",
       "77   bear     [ber]    [ber]   bair  0.666667          2     0.666667\n",
       "78   bear     [ber]    [ber]   bair  0.666667          2     0.666667"
      ]
     },
     "execution_count": 42,
     "metadata": {},
     "output_type": "execute_result"
    }
   ],
   "source": [
    "print('Top 5 most similar words by `Levenshtein.ratio`:')\n",
    "data.sort_values('leven_ratio', ascending=False).head(5)"
   ]
  },
  {
   "cell_type": "code",
   "execution_count": 28,
   "metadata": {},
   "outputs": [
    {
     "name": "stdout",
     "output_type": "stream",
     "text": [
      "['beer'] 0.8888888888888888\n",
      "['beer'] 0.8888888888888888\n",
      "['beer'] 1.0\n"
     ]
    }
   ],
   "source": [
    "# 直接\n",
    "n = len(wordsList)\n",
    "diff_sim = np.zeros(n)\n",
    "leven_dis = np.zeros(n)\n",
    "leven_ratio = np.zeros(n)\n",
    "for i,str2 in enumerate(wordsList):\n",
    "    diff_sim[i] = difflib.SequenceMatcher(None, str1,str2).ratio()\n",
    "    leven_dis[i] = Levenshtein.distance(str1, str2)\n",
    "    leven_ratio[i] = Levenshtein.ratio(str1, str2)\n",
    "print(wordsList[diff_sim==max(diff_sim)],max(diff_sim))\n",
    "print(wordsList[leven_ratio==max(leven_ratio)],max(leven_ratio))\n",
    "print(wordsList[leven_dis==min(leven_dis)],min(leven_dis))"
   ]
  },
  {
   "cell_type": "code",
   "execution_count": 29,
   "metadata": {},
   "outputs": [
    {
     "name": "stdout",
     "output_type": "stream",
     "text": [
      "beer而来\n"
     ]
    }
   ],
   "source": [
    "print(wordsList[leven_ratio==max(leven_ratio)][0]+chinese[2:])"
   ]
  },
  {
   "cell_type": "code",
   "execution_count": 31,
   "metadata": {},
   "outputs": [
    {
     "name": "stdout",
     "output_type": "stream",
     "text": [
      "accept [əkˈsept] aksaipt\n"
     ]
    }
   ],
   "source": [
    "testID = 10\n",
    "wordYB = ybs[testID]\n",
    "py = pys[testID]\n",
    "print(data[\"word\"][testID],wordYB,py)"
   ]
  },
  {
   "cell_type": "code",
   "execution_count": 32,
   "metadata": {},
   "outputs": [
    {
     "data": {
      "text/plain": [
       "1"
      ]
     },
     "execution_count": 32,
     "metadata": {},
     "output_type": "execute_result"
    }
   ],
   "source": [
    "min(1,2,3)"
   ]
  },
  {
   "cell_type": "code",
   "execution_count": 33,
   "metadata": {},
   "outputs": [],
   "source": [
    "class Solution(object):\n",
    "    def minDistance(self, word1, word2):\n",
    "        \"\"\"\n",
    "        :type word1: str\n",
    "        :type word2: str\n",
    "        :rtype: int\n",
    "        \"\"\"\n",
    "        # init\n",
    "        counter = [[0]*(len(word2)+1) for i in range(len(word1)+1)]\n",
    "        for i in range(1,len(word1)+1):\n",
    "            counter[i][0]=i\n",
    "        for i in range(1,len(word2)+1):\n",
    "            counter[0][i]=i\n",
    "        # 开始计算\n",
    "        for i in range(1,len(word1)+1):\n",
    "            for j in range(1,len(word2)+1):\n",
    "                if word1[i-1]==word2[j-1]:\n",
    "                    thisone = counter[i-1][j-1]\n",
    "                else:\n",
    "                    thisone = min(counter[i][j-1]+1,counter[i-1][j]+1,counter[i-1][j-1]+1) # 加，减，替换\n",
    "                counter[i][j] = thisone \n",
    "        return counter[-1][-1]\n"
   ]
  },
  {
   "cell_type": "code",
   "execution_count": 34,
   "metadata": {},
   "outputs": [],
   "source": [
    "so = Solution()"
   ]
  },
  {
   "cell_type": "code",
   "execution_count": 35,
   "metadata": {},
   "outputs": [
    {
     "data": {
      "text/plain": [
       "3"
      ]
     },
     "execution_count": 35,
     "metadata": {},
     "output_type": "execute_result"
    }
   ],
   "source": [
    "so.minDistance(\"horse\",\"ros\")"
   ]
  },
  {
   "cell_type": "code",
   "execution_count": null,
   "metadata": {},
   "outputs": [],
   "source": []
  }
 ],
 "metadata": {
  "kernelspec": {
   "display_name": "Python 3",
   "language": "python",
   "name": "python3"
  },
  "language_info": {
   "codemirror_mode": {
    "name": "ipython",
    "version": 3
   },
   "file_extension": ".py",
   "mimetype": "text/x-python",
   "name": "python",
   "nbconvert_exporter": "python",
   "pygments_lexer": "ipython3",
   "version": "3.9.2"
  },
  "latex_envs": {
   "LaTeX_envs_menu_present": true,
   "autoclose": false,
   "autocomplete": true,
   "bibliofile": "biblio.bib",
   "cite_by": "apalike",
   "current_citInitial": 1,
   "eqLabelWithNumbers": true,
   "eqNumInitial": 1,
   "hotkeys": {
    "equation": "Ctrl-E",
    "itemize": "Ctrl-I"
   },
   "labels_anchors": false,
   "latex_user_defs": false,
   "report_style_numbering": false,
   "user_envs_cfg": false
  }
 },
 "nbformat": 4,
 "nbformat_minor": 4
}
