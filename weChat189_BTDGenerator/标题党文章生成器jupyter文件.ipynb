{
 "cells": [
  {
   "cell_type": "code",
   "execution_count": null,
   "metadata": {},
   "outputs": [
    {
     "name": "stdout",
     "output_type": "stream",
     "text": [
      "人工提问： 你好呀~~\n",
      "智能回答： 好呀！\n",
      "人工提问： 你是机器人吗？\n",
      "智能回答： 是机器人！\n",
      "人工提问： 你是人工智能吗？\n",
      "智能回答： 是人工智能！\n",
      "人工提问： "
     ]
    }
   ],
   "source": [
    "# while(1):\n",
    "#     print(\"人工提问：\",end=' ')\n",
    "#     ask = input()\n",
    "#     answer = ask[1:-2]+\"！\"\n",
    "#     print(\"智能回答：\",answer)"
   ]
  },
  {
   "cell_type": "code",
   "execution_count": 6,
   "metadata": {},
   "outputs": [],
   "source": [
    "import random,re,os\n",
    "import requests,json"
   ]
  },
  {
   "cell_type": "code",
   "execution_count": 7,
   "metadata": {},
   "outputs": [],
   "source": [
    "def 随便选一个元素(列表):\n",
    "    return random.choice(列表)\n",
    "\n",
    "def 随便来一个数(最小值,最大值):\n",
    "    数 = random.randint(最小值,最大值)\n",
    "    return 数\n",
    "\n",
    "def 另起一段():\n",
    "    内容 = \"<br/><br/>\"\n",
    "    return 内容\n",
    "\n",
    "def 生成标题(大废话,前置标题数据库,后置标题数据库):\n",
    "    前置标题 = 随便选一个元素(前置标题数据库)\n",
    "    后置标题 = 随便选一个元素(后置标题数据库)\n",
    "\n",
    "    标题 = 前置标题 + 大废话 + \"。\" + 后置标题\n",
    "    标题 = 标题.replace(\"d\",str(随便来一个数(最小值 = 0,最大值 = 100)))\n",
    "    return 标题\n",
    "\n",
    "def 读JSON文件(文件名):\n",
    "    with open(文件名,mode='r',encoding=\"utf-8\") as 文件:\n",
    "        return json.loads(文件.read())\n",
    "\n",
    "def 生成人名(姓数据库,名数据库,人名长度):\n",
    "    姓 = 随便选一个元素(姓数据库)\n",
    "    名 = \"\"\n",
    "    for 循环 in range(0,人名长度-1):\n",
    "        名 += 随便选一个元素(名数据库)\n",
    "    return 姓+名\n",
    "    \n",
    "def 爬取图片(大废话):\n",
    "    搜图地址 = \"https://pic.sogou.com/pics?start=0&reqType=ajax&query=\"\n",
    "    回复 = requests.get(搜图地址+大废话)\n",
    "    收到数据 = json.loads(回复.text)\n",
    "    图片地址列表 = []\n",
    "    for 数据 in 收到数据['items']:\n",
    "        图片地址列表.append(数据['ori_pic_url'])\n",
    "        \n",
    "    while True:\n",
    "        random.shuffle(图片地址列表)\n",
    "        for 图片地址 in 图片地址列表:\n",
    "            yield \"<br/><br/><div style='text-align: center;'><img src='图片地址' style='max-width: 100%;max-height: 100%;'></div><br/>\".replace(\"图片地址\",图片地址)\n",
    "\n",
    "def 来点废话(大废话,正文废话,专家名称):\n",
    "    while True:\n",
    "        random.shuffle(正文废话)\n",
    "        for 废话 in 正文废话:\n",
    "            yield 废话.replace('x',大废话).replace('r',专家名称)\n",
    "\n",
    "def 加上结论(大废话,狗屁结论):\n",
    "    return \"<br/><br/>\"+随便选一个元素(狗屁结论).replace('x',大废话)"
   ]
  },
  {
   "cell_type": "code",
   "execution_count": 8,
   "metadata": {},
   "outputs": [],
   "source": [
    "文章长度 = 2000\n",
    "数据 = 读JSON文件(\"数据\")\n",
    "姓数据库 = 数据[\"姓\"]\n",
    "名数据库  = 数据[\"名\"]\n",
    "前置标题数据库 = 数据[\"前置标题数据库\"]\n",
    "后置标题数据库 = 数据[\"后置标题数据库\"]\n",
    "正文废话 = 数据[\"正文废话\"]\n",
    "狗屁结论 = 数据[\"狗屁结论\"]"
   ]
  },
  {
   "cell_type": "code",
   "execution_count": 9,
   "metadata": {},
   "outputs": [],
   "source": [
    "模板 = \"\"\n",
    "with open(\"网页模板.html\",\"r\",encoding=\"utf-8\") as 文件:\n",
    "    模板 = 文件.read()"
   ]
  },
  {
   "cell_type": "code",
   "execution_count": 10,
   "metadata": {},
   "outputs": [
    {
     "name": "stdout",
     "output_type": "stream",
     "text": [
      "请输入一句废话:小明是一个学生\n"
     ]
    }
   ],
   "source": [
    "大废话 = input(\"请输入一句废话:\")"
   ]
  },
  {
   "cell_type": "code",
   "execution_count": 19,
   "metadata": {},
   "outputs": [],
   "source": [
    "标题 = 生成标题(大废话,前置标题数据库,后置标题数据库)"
   ]
  },
  {
   "cell_type": "code",
   "execution_count": 20,
   "metadata": {},
   "outputs": [
    {
     "data": {
      "text/plain": [
       "'震惊！小明是一个学生。不转不是中国人！'"
      ]
     },
     "execution_count": 20,
     "metadata": {},
     "output_type": "execute_result"
    }
   ],
   "source": [
    "标题"
   ]
  },
  {
   "cell_type": "code",
   "execution_count": 30,
   "metadata": {},
   "outputs": [],
   "source": [
    "配一张图 = 爬取图片(大废话)\n",
    "专家名称 = 生成人名(姓数据库,名数据库,人名长度=随便来一个数(最小值 = 2,最大值 = 3))\n",
    "废话生成器 = 来点废话(大废话,正文废话,专家名称)\n",
    "临时文本 = \"\"\n",
    "while(len(临时文本) < 文章长度):\n",
    "    随机数 = 随便来一个数(最小值 = 0,最大值 = 100)\n",
    "    if 随机数<5:\n",
    "        临时文本 += 另起一段()\n",
    "    elif 随机数 <10:\n",
    "        临时文本 += next(配一张图)\n",
    "    else:\n",
    "        临时文本 += next(废话生成器)\n",
    "\n",
    "临时文本 += 加上结论(大废话,狗屁结论)"
   ]
  },
  {
   "cell_type": "code",
   "execution_count": 31,
   "metadata": {},
   "outputs": [
    {
     "name": "stdout",
     "output_type": "stream",
     "text": [
      "小明是一个学生看起来很简单？很显然，小明是一个学生在大部人看起来是一件简单的事情，可是，实事真的如此吗？姚旁姑教授表示，小明是一个学生远没有看起来那样简单。姚旁姑专家一再表示，小明是一个学生一定要重视，否则会有很严重的后果小明是一个学生到底有多危险？很多人都有一个误区，认为小明是一个学生是一件再平常不过的事情。姚旁姑专家一再表示，小明是一个学生一定要重视，否则会有很严重的后果很多人都有一个误区，认为小明是一个学生是一件再平常不过的事情。很显然，小明是一个学生在大部人看起来是一件简单的事情，可是，实事真的如此吗？小明是一个学生看起来很简单？姚旁姑教授表示，小明是一个学生远没有看起来那样简单。<br/><br/><div style='text-align: center;'><img src='http://thumb.1010pic.com/pic5/upload/201311/5285b72cc5dda.png' style='max-width: 100%;max-height: 100%;'></div><br/>小明是一个学生到底有多危险？<br/><br/><div style='text-align: center;'><img src='https://05.imgmini.eastday.com/mobile/20171007/506ff6ced7d689b424ead348469da6c7.png' style='max-width: 100%;max-height: 100%;'></div><br/>很多人都有一个误区，认为小明是一个学生是一件再平常不过的事情。小明是一个学生看起来很简单？姚旁姑教授表示，小明是一个学生远没有看起来那样简单。姚旁姑专家一再表示，小明是一个学生一定要重视，否则会有很严重的后果小明是一个学生到底有多危险？很显然，小明是一个学生在大部人看起来是一件简单的事情，可是，实事真的如此吗？很多人都有一个误区，认为小明是一个学生是一件再平常不过的事情。小明是一个学生到底有多危险？小明是一个学生看起来很简单？很显然，小明是一个学生在大部人看起来是一件简单的事情，可是，实事真的如此吗？姚旁姑专家一再表示，小明是一个学生一定要重视，否则会有很严重的后果姚旁姑教授表示，小明是一个学生远没有看起来那样简单。姚旁姑专家一再表示，小明是一个学生一定要重视，否则会有很严重的后果姚旁姑教授表示，小明是一个学生远没有看起来那样简单。很多人都有一个误区，认为小明是一个学生是一件再平常不过的事情。很显然，小明是一个学生在大部人看起来是一件简单的事情，可是，实事真的如此吗？小明是一个学生看起来很简单？小明是一个学生到底有多危险？很多人都有一个误区，认为小明是一个学生是一件再平常不过的事情。很显然，小明是一个学生在大部人看起来是一件简单的事情，可是，实事真的如此吗？小明是一个学生到底有多危险？姚旁姑专家一再表示，小明是一个学生一定要重视，否则会有很严重的后果小明是一个学生看起来很简单？姚旁姑教授表示，小明是一个学生远没有看起来那样简单。很多人都有一个误区，认为小明是一个学生是一件再平常不过的事情。小明是一个学生到底有多危险？姚旁姑专家一再表示，小明是一个学生一定要重视，否则会有很严重的后果小明是一个学生看起来很简单？姚旁姑教授表示，小明是一个学生远没有看起来那样简单。很显然，小明是一个学生在大部人看起来是一件简单的事情，可是，实事真的如此吗？姚旁姑专家一再表示，小明是一个学生一定要重视，否则会有很严重的后果姚旁姑教授表示，小明是一个学生远没有看起来那样简单。小明是一个学生到底有多危险？小明是一个学生看起来很简单？很显然，小明是一个学生在大部人看起来是一件简单的事情，可是，实事真的如此吗？很多人都有一个误区，认为小明是一个学生是一件再平常不过的事情。小明是一个学生到底有多危险？小明是一个学生看起来很简单？很多人都有一个误区，认为小明是一个学生是一件再平常不过的事情。姚旁姑专家一再表示，小明是一个学生一定要重视，否则会有很严重的后果姚旁姑教授表示，小明是一个学生远没有看起来那样简单。很显然，小明是一个学生在大部人看起来是一件简单的事情，可是，实事真的如此吗？姚旁姑专家一再表示，小明是一个学生一定要重视，否则会有很严重的后果姚旁姑教授表示，小明是一个学生远没有看起来那样简单。<br/><br/><div style='text-align: center;'><img src='http://static.yingyonghui.com/screenshots/6494/6494027_0.jpg' style='max-width: 100%;max-height: 100%;'></div><br/>小明是一个学生到底有多危险？<br/><br/>总之，小明是一个学生是对的。\n"
     ]
    }
   ],
   "source": [
    "print(临时文本)"
   ]
  },
  {
   "cell_type": "code",
   "execution_count": 32,
   "metadata": {},
   "outputs": [
    {
     "name": "stdout",
     "output_type": "stream",
     "text": [
      "标题党网页“震惊！小明是一个学生。不转不是中国人！”已生成在“文章”文件夹下\n"
     ]
    }
   ],
   "source": [
    "文章全部内容 = 模板.replace(\"【标题】\",标题).replace(\"【正文】\",临时文本)\n",
    "\n",
    "with open(os.path.join(\"文章\",标题+\".html\"),\"w\",encoding=\"utf-8\") as 文件:\n",
    "    文件.write(文章全部内容)\n",
    "print(\"标题党网页“\"+标题+\"”已生成在“文章”文件夹下\")"
   ]
  },
  {
   "cell_type": "code",
   "execution_count": null,
   "metadata": {},
   "outputs": [],
   "source": []
  }
 ],
 "metadata": {
  "kernelspec": {
   "display_name": "Python 3",
   "language": "python",
   "name": "python3"
  },
  "language_info": {
   "codemirror_mode": {
    "name": "ipython",
    "version": 3
   },
   "file_extension": ".py",
   "mimetype": "text/x-python",
   "name": "python",
   "nbconvert_exporter": "python",
   "pygments_lexer": "ipython3",
   "version": "3.6.4"
  },
  "latex_envs": {
   "LaTeX_envs_menu_present": true,
   "autoclose": false,
   "autocomplete": true,
   "bibliofile": "biblio.bib",
   "cite_by": "apalike",
   "current_citInitial": 1,
   "eqLabelWithNumbers": true,
   "eqNumInitial": 1,
   "hotkeys": {
    "equation": "Ctrl-E",
    "itemize": "Ctrl-I"
   },
   "labels_anchors": false,
   "latex_user_defs": false,
   "report_style_numbering": false,
   "user_envs_cfg": false
  }
 },
 "nbformat": 4,
 "nbformat_minor": 2
}
