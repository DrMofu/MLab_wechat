{
 "cells": [
  {
   "cell_type": "code",
   "execution_count": 1,
   "metadata": {},
   "outputs": [],
   "source": [
    "import wx\n",
    "import numpy as np"
   ]
  },
  {
   "cell_type": "code",
   "execution_count": 2,
   "metadata": {},
   "outputs": [],
   "source": [
    "def set_f(event):\n",
    "    text = content_text.GetValue()\n",
    "    content_text.SetValue(text+'的父亲')\n",
    "    \n",
    "def set_m(event):\n",
    "    text = content_text.GetValue()\n",
    "    content_text.SetValue(text+'的母亲')\n",
    "    \n",
    "def set_bb(event):\n",
    "    text = content_text.GetValue()\n",
    "    content_text.SetValue(text+'的哥哥')\n",
    "\n",
    "def set_bs(event):\n",
    "    text = content_text.GetValue()\n",
    "    content_text.SetValue(text+'的弟弟')\n",
    "    \n",
    "def set_sb(event):\n",
    "    text = content_text.GetValue()\n",
    "    content_text.SetValue(text+'的姐姐')\n",
    "    \n",
    "def set_ss(event):\n",
    "    text = content_text.GetValue()\n",
    "    content_text.SetValue(text+'的妹妹')   \n",
    "    \n",
    "def set_son(event):\n",
    "    text = content_text.GetValue()\n",
    "    content_text.SetValue(text+'的儿子')\n",
    "    \n",
    "def set_dau(event):\n",
    "    text = content_text.GetValue()\n",
    "    content_text.SetValue(text+'的女儿')\n",
    "\n",
    "def set_hus(event):\n",
    "    text = content_text.GetValue()\n",
    "    content_text.SetValue(text+'的丈夫')\n",
    "\n",
    "def set_wife(event):\n",
    "    text = content_text.GetValue()\n",
    "    content_text.SetValue(text+'的妻子')"
   ]
  },
  {
   "cell_type": "code",
   "execution_count": 3,
   "metadata": {},
   "outputs": [],
   "source": [
    "me = {'f':'父亲','m':'母亲','bb':'哥哥','sb':'弟弟','bs':'姐姐','ss':'妹妹','son':'儿子','dau':'女儿'}\n",
    "father = {'f':'爷爷','m':'奶奶','bb':'伯父','sb':'叔叔','bs':'姑妈','ss':'姑妈','son':['我','哥哥','弟弟'],'dau':['我','姐姐','妹妹']}\n",
    "mother = {'f':'姥爷','m':'姥姥','bb':'大舅','sb':'小舅','bs':'大姨','ss':'小姨','son':['我','哥哥','弟弟'],'dau':['我','姐姐','妹妹']}\n",
    "big_bro = {'f':'父亲','m':'母亲','bb':'哥哥','sb':['我','哥哥','弟弟'],'bs':['姐姐'],'ss':None,'son':None,'dau':None}\n",
    "small_bro = {'f':'父亲','m':'母亲','bb':None,'sb':None,'bs':None,'ss':None,'son':None,'dau':None}\n",
    "big_sister = {'f':None,'m':None,'bb':None,'sb':None,'bs':None,'ss':None,'son':None,'dau':None}\n",
    "small_sister = {'f':None,'m':None,'bb':None,'sb':None,'bs':None,'ss':None,'son':None,'dau':None}\n",
    "son = {'f':None,'m':None,'bb':None,'sb':None,'bs':None,'ss':None,'son':None,'dau':None}\n",
    "daughter = {'f':None,'m':None,'bb':None,'sb':None,'bs':None,'ss':None,'son':None,'dau':None}\n",
    "others = {'f':None,'m':None,'bb':None,'sb':None,'bs':None,'ss':None,'son':None,'dau':None}"
   ]
  },
  {
   "cell_type": "code",
   "execution_count": 4,
   "metadata": {},
   "outputs": [],
   "source": [
    "name2var = {'我':me,'父亲':father,'母亲':mother,'哥哥':big_bro,\\\n",
    "            '弟弟':small_bro,'姐姐':big_sister,'妹妹':small_sister,\\\n",
    "            '儿子':son,'女儿':daughter}\n",
    "relation2char =  dict(zip(me.values(), me.keys()))"
   ]
  },
  {
   "cell_type": "code",
   "execution_count": 5,
   "metadata": {},
   "outputs": [],
   "source": [
    "def returnNext(names,relation):\n",
    "    return_name = []\n",
    "    for name in names:\n",
    "        return_name.append(name2var[name][relation2char[relation]])\n",
    "    return list(set(np.array(return_name).flatten()))\n",
    "\n",
    "def getName(relation_name):\n",
    "    relationships = relation_name.split('的')\n",
    "    name = [relationships[0]]\n",
    "    for relation in relationships[1:]:\n",
    "        name = returnNext(name,relation)\n",
    "    return name"
   ]
  },
  {
   "cell_type": "code",
   "execution_count": 12,
   "metadata": {},
   "outputs": [],
   "source": [
    "def getResult(event):\n",
    "    text = content_text.GetValue()\n",
    "    result = getName(text)\n",
    "    answer.SetValue(str(result))\n",
    "    \n",
    "def clean(event):\n",
    "    content_text.SetValue('我')\n",
    "    answer.SetValue('')"
   ]
  },
  {
   "cell_type": "code",
   "execution_count": 13,
   "metadata": {},
   "outputs": [],
   "source": [
    "app = wx.App()\n",
    "frame = wx.Frame(None,title = \"亲戚计算器\",pos = (1000,200),size = (420,500))\n",
    " \n",
    "content_text = wx.TextCtrl(frame,pos = (0,0),size = (300,30),value=\"我\")\n",
    "answer = wx.TextCtrl(frame,pos = (300,0),size = (100,30))\n",
    "button_f = wx.Button(frame,label = \"父\",pos = (0,30),size = (100,100));button_f.Bind(wx.EVT_BUTTON,set_f);\n",
    "button_m = wx.Button(frame,label = \"母\",pos = (100,30),size = (100,100));button_m.Bind(wx.EVT_BUTTON,set_m);\n",
    "button_bb = wx.Button(frame,label = \"哥\",pos = (0,130),size = (100,100));button_bb.Bind(wx.EVT_BUTTON,set_bb);\n",
    "button_bs = wx.Button(frame,label = \"弟\",pos = (100,130),size = (100,100));button_bs.Bind(wx.EVT_BUTTON,set_bs);\n",
    "button_sb = wx.Button(frame,label = \"姐\",pos = (0,230),size = (100,100));button_sb.Bind(wx.EVT_BUTTON,set_sb);\n",
    "button_ss = wx.Button(frame,label = \"妹\",pos = (100,230),size = (100,100));button_ss.Bind(wx.EVT_BUTTON,set_ss);\n",
    "button_son = wx.Button(frame,label = \"子\",pos = (0,330),size = (100,100));button_son.Bind(wx.EVT_BUTTON,set_son);\n",
    "button_dau = wx.Button(frame,label = \"女\",pos = (100,330),size = (100,100));button_dau.Bind(wx.EVT_BUTTON,set_dau);\n",
    "\n",
    "button_back = wx.Button(frame,label = \"←\",pos = (200,30),size = (100,100))\n",
    "button_c = wx.Button(frame,label = \"C\",pos = (300,30),size = (100,100));button_c.Bind(wx.EVT_BUTTON,clean);\n",
    "button_hus = wx.Button(frame,label = \"夫\",pos = (200,130),size = (100,100));button_hus.Bind(wx.EVT_BUTTON,set_hus);\n",
    "button_wife = wx.Button(frame,label = \"妻\",pos = (300,130),size = (100,100));button_wife.Bind(wx.EVT_BUTTON,set_wife);\n",
    "\n",
    "button_equ = wx.Button(frame,label = \"=\",pos = (200,230),size = (200,200));button_equ.Bind(wx.EVT_BUTTON,getResult);\n",
    "\n",
    "\n",
    "frame.Show() \n",
    "app.MainLoop()\n",
    "del app"
   ]
  },
  {
   "cell_type": "code",
   "execution_count": null,
   "metadata": {},
   "outputs": [],
   "source": []
  }
 ],
 "metadata": {
  "kernelspec": {
   "display_name": "Python 3",
   "language": "python",
   "name": "python3"
  },
  "language_info": {
   "codemirror_mode": {
    "name": "ipython",
    "version": 3
   },
   "file_extension": ".py",
   "mimetype": "text/x-python",
   "name": "python",
   "nbconvert_exporter": "python",
   "pygments_lexer": "ipython3",
   "version": "3.6.4"
  }
 },
 "nbformat": 4,
 "nbformat_minor": 2
}
